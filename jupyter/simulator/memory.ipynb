{
 "cells": [
  {
   "cell_type": "code",
   "execution_count": 3,
   "metadata": {},
   "outputs": [],
   "source": [
    "import sys\n",
    "sys.path.append('../../python/')  \n",
    "from simulator.memory import *\n",
    "from interface.load_parameter import *\n",
    "import math\n",
    "from periphery import logicGate\n",
    "from periphery import constant\n",
    "print(constant.INV)"
   ]
  },
  {
   "cell_type": "markdown",
   "metadata": {},
   "source": [
    "load the rng distribution and the weights"
   ]
  },
  {
   "cell_type": "code",
   "execution_count": 4,
   "metadata": {},
   "outputs": [
    {
     "name": "stdout",
     "output_type": "stream",
     "text": [
      "\n",
      "===== Loaded Configuration Parameters =====\n",
      "{\n",
      "    \"dataset\": \"CIFAR-10\",\n",
      "    \"device_type\": \"SRAM\",\n",
      "    \"distribution_file\": \"../../../DATA/customized_gaussian_current.csv\",\n",
      "    \"frequency\": 1000000000.0,\n",
      "    \"mode\": \"memory\",\n",
      "    \"model\": \"ResNet18\",\n",
      "    \"precision_mu\": 6,\n",
      "    \"precision_sigma\": 2,\n",
      "    \"technology\": \"65\"\n",
      "}\n",
      "============================================\n",
      "\n",
      "✅ Config validation passed!\n"
     ]
    }
   ],
   "source": [
    "filename = '../../fake_config.yaml'\n",
    "config = load_config(filename)\n",
    "validate_config(config)"
   ]
  },
  {
   "cell_type": "code",
   "execution_count": 10,
   "metadata": {},
   "outputs": [
    {
     "name": "stdout",
     "output_type": "stream",
     "text": [
      "mean of customized distribution:  -7.58859641791787e-15\n",
      "std of customized distribution:  0.9999166631941552\n"
     ]
    }
   ],
   "source": [
    "distribution_file = config['distribution_file']\n",
    "customized_distribution = process_gaussian_data(distribution_file, bins_hist=30)\n",
    "print(\"mean of customized distribution: \", customized_distribution.mean())\n",
    "print(\"std of customized distribution: \", customized_distribution.std())\n"
   ]
  },
  {
   "cell_type": "markdown",
   "metadata": {},
   "source": [
    "sample from the distribution"
   ]
  },
  {
   "cell_type": "code",
   "execution_count": 7,
   "metadata": {},
   "outputs": [
    {
     "data": {
      "text/plain": [
       "tensor([-1.3585, -0.0380,  0.1031,  0.0049, -0.2543,  0.9352, -0.1995,  0.9606,\n",
       "         0.6238,  0.8506, -0.2999,  0.0715,  0.8855, -0.8967,  0.4266,  0.1185,\n",
       "         0.5838,  0.4387,  0.0305,  0.0434, -0.3610,  1.1004, -0.9382, -0.4676,\n",
       "         0.3208,  0.3341,  0.0878, -1.1989,  0.4548, -0.9593,  0.2745,  0.7079,\n",
       "        -0.9849, -0.4861,  0.7918,  0.1248, -0.3244, -0.2355, -0.2002, -1.4073,\n",
       "        -0.9004, -0.0774, -1.2406, -0.4235, -2.2897,  0.4922,  1.7931, -1.6642,\n",
       "        -0.2744,  2.0361, -0.0459,  0.8340, -1.8562, -0.9097,  0.9353, -0.4972,\n",
       "         0.5019, -0.9221,  0.4384, -0.4564, -0.4991, -0.6232, -0.0771,  0.0626,\n",
       "         0.6117,  1.0858,  1.2521, -1.8467, -0.5664,  0.1744,  0.0471,  0.0567,\n",
       "        -0.1470, -0.5399, -0.3881,  0.0972, -0.2584, -0.2033,  0.7268, -1.9203,\n",
       "        -0.7793, -0.1038, -0.3289, -0.5755,  0.1576, -1.2840,  0.4706, -0.4424,\n",
       "        -0.5758, -0.3552,  0.4313,  0.1138, -0.6552, -0.5260,  0.5185,  0.0222,\n",
       "        -0.0787, -0.0981, -0.8957,  0.2636,  0.5774, -2.2871,  0.7852,  0.4284,\n",
       "        -0.4938,  0.9148, -0.3750, -0.7496, -2.6885, -0.9801,  0.3861,  0.2915,\n",
       "        -1.1913, -0.4168,  0.5859,  0.2937, -0.2435, -1.3781, -0.9916, -0.0565,\n",
       "         0.7812, -0.9885,  1.1002,  0.7586, -0.1009, -0.1902, -0.6639,  1.3216,\n",
       "        -0.6629, -0.8282, -1.0537, -0.9881,  0.5382, -0.0713,  0.1268, -0.7891,\n",
       "         0.2835, -0.0596, -0.1796,  0.3303, -0.7291, -1.2535, -0.0904, -0.5804,\n",
       "        -2.3170,  0.2999,  1.6992, -0.6255,  0.7247, -0.6289, -0.6028,  0.5975,\n",
       "        -0.6470,  0.7735,  0.5148,  0.1862,  1.2222,  0.4936,  0.5178, -0.5909,\n",
       "         0.6815,  0.1241, -0.5466, -0.2956, -0.1724,  0.9503,  0.2791, -0.0118,\n",
       "         0.2098,  0.3637, -0.8204, -1.0036,  0.2653,  0.7730, -1.0605, -0.2548,\n",
       "        -0.1186,  0.2834, -0.0694, -0.5122,  0.1743, -0.5474,  0.4315, -0.9746,\n",
       "         0.8144, -0.5755,  0.5621, -0.0497, -0.6042, -0.8026,  0.9334,  0.5918,\n",
       "         0.5633,  0.7326,  1.0687, -0.2583,  0.6161,  0.4505,  0.2028, -0.5529])"
      ]
     },
     "execution_count": 7,
     "metadata": {},
     "output_type": "execute_result"
    }
   ],
   "source": [
    "#generate the gaussian sample\n",
    "data = torch.randn(1000, 2)\n",
    "shape = 200\n",
    "custom_sample(data, shape)"
   ]
  },
  {
   "cell_type": "code",
   "execution_count": null,
   "metadata": {},
   "outputs": [],
   "source": [
    "class SubArray:\n",
    "    def __init__(self, input_parameter, tech, cell, module_lib):\n",
    "        self.input_parameter = input_parameter\n",
    "        self.tech = tech\n",
    "        self.cell = cell\n",
    "        self.module_lib = module_lib\n",
    "        self.initialized = False\n",
    "        self.read_dynamic_energy_array = 0\n",
    "        self.write_dynamic_energy_array = 0\n",
    "\n",
    "    def initialize(self, num_row, num_col, unit_wire_res, relax_cell_width=False, relax_cell_height=False):\n",
    "        self.num_row = num_row\n",
    "        self.num_col = num_col\n",
    "        self.unit_wire_res = unit_wire_res\n",
    "\n",
    "        min_cell_height = self.module_lib.constants.MAX_TRANSISTOR_HEIGHT\n",
    "        min_cell_width = (self.module_lib.constants.MIN_GAP_BET_GATE_POLY + self.module_lib.constants.POLY_WIDTH) * 2\n",
    "\n",
    "        if self.cell.mem_cell_type == 'SRAM':\n",
    "            cell_width = max(self.cell.width_in_feature_size, min_cell_width) if relax_cell_width else self.cell.width_in_feature_size\n",
    "            cell_height = max(self.cell.height_in_feature_size, min_cell_height) if relax_cell_height else self.cell.height_in_feature_size\n",
    "            self.length_row = self.num_col * cell_width * self.tech['feature_size']\n",
    "            self.length_col = self.num_row * cell_height * self.tech['feature_size']\n",
    "        else:\n",
    "            raise NotImplementedError(\"Only SRAM type is implemented in this version.\")\n",
    "\n",
    "        self.cap_row1 = self.length_row * 0.2e-15 / 1e-6\n",
    "        self.cap_row2 = self.length_row * 0.2e-15 / 1e-6\n",
    "        self.cap_col = self.length_col * 0.2e-15 / 1e-6\n",
    "        self.res_row = self.length_row * self.unit_wire_res\n",
    "        self.res_col = self.length_col * self.unit_wire_res\n",
    "\n",
    "        res_access = self.module_lib.calculate_on_resistance(\n",
    "            self.cell.width_access_cmos * self.tech['feature_size'], 'NMOS',\n",
    "            self.input_parameter['temperature'], self.tech\n",
    "        )\n",
    "        cap_access = self.module_lib.calculate_drain_cap(\n",
    "            self.cell.width_access_cmos * self.tech['feature_size'], 'NMOS',\n",
    "            self.cell.width_in_feature_size * self.tech['feature_size'], self.tech\n",
    "        )\n",
    "        self.cell.cap_sram_cell = (\n",
    "            cap_access +\n",
    "            self.module_lib.calculate_drain_cap(self.cell.width_sram_cell_nmos * self.tech['feature_size'], 'NMOS',\n",
    "                                                self.cell.width_in_feature_size * self.tech['feature_size'], self.tech) +\n",
    "            self.module_lib.calculate_drain_cap(self.cell.width_sram_cell_pmos * self.tech['feature_size'], 'PMOS',\n",
    "                                                self.cell.width_in_feature_size * self.tech['feature_size'], self.tech) +\n",
    "            self.module_lib.calculate_gate_cap(self.cell.width_sram_cell_nmos * self.tech['feature_size'], self.tech) +\n",
    "            self.module_lib.calculate_gate_cap(self.cell.width_sram_cell_pmos * self.tech['feature_size'], self.tech)\n",
    "        )\n",
    "\n",
    "        addr_bits = int(math.ceil(math.log2(self.num_row)))\n",
    "        self.wl_decoder = self.module_lib.RowDecoder('REGULAR_ROW', addr_bits, False, False, self.tech, self.input_parameter)\n",
    "        self.sense_amp = self.module_lib.SenseAmp(self.input_parameter, self.tech, self.cell)\n",
    "        self.sram_write_driver = self.module_lib.WriteDriver(self.input_parameter, self.tech, self.cell)\n",
    "        self.precharger = self.module_lib.Precharger(self.input_parameter, self.tech, self.cell)\n",
    "\n",
    "        self.initialized = True\n"
   ]
  }
 ],
 "metadata": {
  "kernelspec": {
   "display_name": "project",
   "language": "python",
   "name": "python3"
  },
  "language_info": {
   "codemirror_mode": {
    "name": "ipython",
    "version": 3
   },
   "file_extension": ".py",
   "mimetype": "text/x-python",
   "name": "python",
   "nbconvert_exporter": "python",
   "pygments_lexer": "ipython3",
   "version": "3.10.14"
  }
 },
 "nbformat": 4,
 "nbformat_minor": 2
}
