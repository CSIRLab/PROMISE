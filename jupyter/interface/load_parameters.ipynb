{
 "cells": [
  {
   "cell_type": "code",
   "execution_count": 1,
   "metadata": {},
   "outputs": [],
   "source": [
    "import sys\n",
    "sys.path.append('../../python/')  \n",
    "from interface.load_parameter import *\n"
   ]
  },
  {
   "cell_type": "code",
   "execution_count": 6,
   "metadata": {},
   "outputs": [
    {
     "name": "stdout",
     "output_type": "stream",
     "text": [
      "✅ New Fake YAML config file 'fake_config.yaml' generated!\n"
     ]
    }
   ],
   "source": [
    "\n",
    "fake_config = {\n",
    "    'mode': 'memory',\n",
    "    'technology': '65',\n",
    "    'device_type': 'SRAM',\n",
    "    'frequency': 1e9,            # 1 GHz\n",
    "    'precision_mu': 6,        # Device variation mean\n",
    "    'precision_sigma': 2,    # Device variation stddev\n",
    "    'dataset': 'CIFAR-10',\n",
    "    'model': 'ResNet18',\n",
    "    'distribution_file': \"../../../DATA/customized_gaussian_current.csv\"\n",
    "}\n",
    "\n",
    "# 写入 YAML 文件\n",
    "with open('../../fake_config.yaml', 'w') as file:\n",
    "    yaml.dump(fake_config, file, default_flow_style=False)\n",
    "\n",
    "print(\"✅ New Fake YAML config file 'fake_config.yaml' generated!\")\n",
    "\n"
   ]
  },
  {
   "cell_type": "code",
   "execution_count": 7,
   "metadata": {},
   "outputs": [
    {
     "name": "stdout",
     "output_type": "stream",
     "text": [
      "{\n",
      "    \"dataset\": \"CIFAR-10\",\n",
      "    \"device_type\": \"SRAM\",\n",
      "    \"distribution_file\": \"../../DATA/customized_gaussian_current.csv\",\n",
      "    \"frequency\": 1000000000.0,\n",
      "    \"mode\": \"memory\",\n",
      "    \"model\": \"ResNet18\",\n",
      "    \"precision_mu\": 6,\n",
      "    \"precision_sigma\": 2,\n",
      "    \"technology\": \"65\"\n",
      "}\n"
     ]
    }
   ],
   "source": [
    "print(json.dumps(config, indent=4, sort_keys=False))"
   ]
  },
  {
   "cell_type": "code",
   "execution_count": 9,
   "metadata": {},
   "outputs": [
    {
     "name": "stdout",
     "output_type": "stream",
     "text": [
      "\n",
      "===== Loaded Configuration Parameters =====\n",
      "{\n",
      "    \"dataset\": \"CIFAR-10\",\n",
      "    \"device_type\": \"SRAM\",\n",
      "    \"distribution_file\": \"../../../DATA/customized_gaussian_current.csv\",\n",
      "    \"frequency\": 1000000000.0,\n",
      "    \"mode\": \"memory\",\n",
      "    \"model\": \"ResNet18\",\n",
      "    \"precision_mu\": 6,\n",
      "    \"precision_sigma\": 2,\n",
      "    \"technology\": \"65\"\n",
      "}\n",
      "============================================\n",
      "\n",
      "✅ Config validation passed!\n"
     ]
    }
   ],
   "source": [
    "filename = '../../fake_config.yaml'\n",
    "config = load_config(filename)\n",
    "validate_config(config)\n",
    "\n",
    "# self.num_layers = config['num_layers']\n",
    "# self.neurons_per_layer = config['neurons_per_layer']\n",
    "# self.cell_type = config['cell_type']\n",
    "# self.vdd = config['vdd']\n",
    "# self.current_limit = config['current_limit']\n",
    "# self.quant_bits = config['quant_bits']\n"
   ]
  }
 ],
 "metadata": {
  "kernelspec": {
   "display_name": "project",
   "language": "python",
   "name": "python3"
  },
  "language_info": {
   "codemirror_mode": {
    "name": "ipython",
    "version": 3
   },
   "file_extension": ".py",
   "mimetype": "text/x-python",
   "name": "python",
   "nbconvert_exporter": "python",
   "pygments_lexer": "ipython3",
   "version": "3.10.14"
  }
 },
 "nbformat": 4,
 "nbformat_minor": 2
}
